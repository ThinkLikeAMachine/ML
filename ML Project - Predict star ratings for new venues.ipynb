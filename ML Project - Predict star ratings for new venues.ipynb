{
 "cells": [
  {
   "cell_type": "markdown",
   "id": "8f949541",
   "metadata": {
    "slideshow": null
   },
   "source": [
    "# ML: Predicting Star Ratings\n"
   ]
  },
  {
   "cell_type": "markdown",
   "id": "07a6e8d0",
   "metadata": {
    "slideshow": null
   },
   "source": [
    "In this project, the objective is to predict a new venue's popularity from information available when the venue opens.  We will need to build a machine learning algorism from a dataset of venue popularities provided by Yelp.  The dataset contains meta data about the venue (where it is located, the type of food served, etc.) and the star ratings. \n",
    "*Note that the venues are not limited to restaurants.\n"
   ]
  },
  {
   "cell_type": "code",
   "execution_count": 1,
   "id": "2c9930ba",
   "metadata": {
    "slideshow": null
   },
   "outputs": [],
   "source": [
    "import seaborn as sns\n",
    "sns.set()"
   ]
  },
  {
   "cell_type": "markdown",
   "id": "a5fe8953",
   "metadata": {
    "slideshow": null
   },
   "source": [
    "### Parse the data\n",
    "\n",
    "The dataset is private and not shared. The training data are a series of JSON objects, in a Gzipped file. The built-in `json` package has a `loads` function that converts a JSON string into a Python dictionary."
   ]
  },
  {
   "cell_type": "code",
   "execution_count": 2,
   "id": "555fd10d",
   "metadata": {
    "slideshow": null
   },
   "outputs": [],
   "source": [
    "import ujson as json\n",
    "import gzip\n",
    "\n",
    "with gzip.open('yelp_train_academic_dataset_business.json.gz') as f:\n",
    "    data = [json.loads(line) for line in f]"
   ]
  },
  {
   "cell_type": "markdown",
   "id": "cda87f47",
   "metadata": {
    "slideshow": null
   },
   "source": [
    "In scikit-learn, the labels to be predicted, in this case, the stars, are always kept in a separate data structure than the features."
   ]
  },
  {
   "cell_type": "code",
   "execution_count": 3,
   "id": "62a9e50d",
   "metadata": {
    "scrolled": false,
    "slideshow": null
   },
   "outputs": [],
   "source": [
    "star_ratings = [row['stars'] for row in data]"
   ]
  },
  {
   "cell_type": "code",
   "execution_count": 5,
   "id": "9bbcb184",
   "metadata": {
    "scrolled": true
   },
   "outputs": [
    {
     "data": {
      "text/plain": [
       "{'business_id': 'vcNAWiLM4dR7D2nwwJ7nCA',\n",
       " 'full_address': '4840 E Indian School Rd\\nSte 101\\nPhoenix, AZ 85018',\n",
       " 'hours': {'Tuesday': {'close': '17:00', 'open': '08:00'},\n",
       "  'Friday': {'close': '17:00', 'open': '08:00'},\n",
       "  'Monday': {'close': '17:00', 'open': '08:00'},\n",
       "  'Wednesday': {'close': '17:00', 'open': '08:00'},\n",
       "  'Thursday': {'close': '17:00', 'open': '08:00'}},\n",
       " 'open': True,\n",
       " 'categories': ['Doctors', 'Health & Medical'],\n",
       " 'city': 'Phoenix',\n",
       " 'review_count': 7,\n",
       " 'name': 'Eric Goldberg, MD',\n",
       " 'neighborhoods': [],\n",
       " 'longitude': -111.983758,\n",
       " 'state': 'AZ',\n",
       " 'stars': 3.5,\n",
       " 'latitude': 33.499313,\n",
       " 'attributes': {'By Appointment Only': True},\n",
       " 'type': 'business'}"
      ]
     },
     "execution_count": 5,
     "metadata": {},
     "output_type": "execute_result"
    }
   ],
   "source": [
    "data[0] # an example that shows the format of the data"
   ]
  },
  {
   "cell_type": "code",
   "execution_count": 7,
   "id": "b75d1c87",
   "metadata": {},
   "outputs": [
    {
     "name": "stdout",
     "output_type": "stream",
     "text": [
      "37938 37938\n"
     ]
    }
   ],
   "source": [
    "print(len(star_ratings), len(data))"
   ]
  },
  {
   "cell_type": "markdown",
   "id": "9a96582f",
   "metadata": {
    "slideshow": null
   },
   "source": [
    "## Model 1: the lat_long model"
   ]
  },
  {
   "cell_type": "markdown",
   "id": "e886d047",
   "metadata": {
    "slideshow": null
   },
   "source": [
    "It is reasonable to believe that some neighborhoods are trendier than others.  Use the latitude and longitude of a venue as features that help us understand neighborhood dynamics.\n",
    "\n",
    "Since we need to select the appropriate columns from the dictionaries to build our latitude-longitude model, we will have to use scikit-learn's [`ColumnTransformer`](https://scikit-learn.org/stable/modules/generated/sklearn.compose.ColumnTransformer.html). However, the `ColumnTransformer` works with either NumPy arrays or pandas data frames. In this case, a transformer was built to convert a list of dictionaries into a pandas data frame."
   ]
  },
  {
   "cell_type": "code",
   "execution_count": 36,
   "id": "bac4a211",
   "metadata": {
    "slideshow": null
   },
   "outputs": [],
   "source": [
    "import pandas as pd\n",
    "from sklearn.base import BaseEstimator,TransformerMixin, RegressorMixin\n",
    "\n",
    "class ToDataFrame(BaseEstimator, TransformerMixin):\n",
    "    def fit(self, X, y=None):\n",
    "        # The transformer doesn't need to learn anything about the data,so it can just return self\n",
    "        return self\n",
    "    \n",
    "    def transform(self, X):\n",
    "        # Return a pandas data frame from X\n",
    "        return pd.DataFrame(X)"
   ]
  },
  {
   "cell_type": "code",
   "execution_count": 10,
   "id": "263367c4",
   "metadata": {
    "slideshow": null
   },
   "outputs": [],
   "source": [
    "import numpy as np\n",
    "from sklearn.compose import ColumnTransformer\n",
    "\n",
    "# Instantiate a ColumnTransformer\n",
    "selector = ColumnTransformer([('location', ToDataFrame(), ['latitude', 'longitude'])], remainder = 'drop')"
   ]
  },
  {
   "cell_type": "markdown",
   "id": "48da59ed",
   "metadata": {
    "slideshow": null
   },
   "source": [
    "We will use a pipeline, ensuring that our model applies all the required transformations given the form of the input data. And we feed the output of the transformer in to a `KNeighborsRegressor`."
   ]
  },
  {
   "cell_type": "code",
   "execution_count": 12,
   "id": "bc4b3edd",
   "metadata": {
    "slideshow": null
   },
   "outputs": [],
   "source": [
    "from sklearn.pipeline import Pipeline\n",
    "from sklearn.neighbors import KNeighborsRegressor\n",
    "\n",
    "pipe = Pipeline([('dataframe', ToDataFrame()),('location', selector),('regressor', KNeighborsRegressor())])"
   ]
  },
  {
   "cell_type": "markdown",
   "id": "97cf4c5b",
   "metadata": {
    "slideshow": null
   },
   "source": [
    "The `KNeighborsRegressor` takes the `n_neighbors` hyperparameter, which tells it how many nearest neighbors to average together when making a prediction. We will need to determine an optimal value for this hyperparameter. A common approach is to use a hyperparameter searching tool such as [`GridSearchCV`](http://scikit-learn.org/stable/modules/generated/sklearn.model_selection.GridSearchCV.html#sklearn.model_selection.GridSearchCV)."
   ]
  },
  {
   "cell_type": "markdown",
   "id": "459c801b",
   "metadata": {
    "slideshow": null
   },
   "source": [
    "But before that, we must consider whether the data needs to be shuffled as it might not have been randomized. For example, the data could be ordered by a certain feature or by the labels. \n",
    "We can check that by plotting a rolling mean of the star ratings. Seems that we need to shuffle the data."
   ]
  },
  {
   "cell_type": "code",
   "execution_count": 14,
   "id": "28302475",
   "metadata": {
    "scrolled": true,
    "slideshow": null
   },
   "outputs": [
    {
     "data": {
      "image/png": "[encoded data removed]",
      "text/plain": [
       "<Figure size 432x288 with 1 Axes>"
      ]
     },
     "metadata": {},
     "output_type": "display_data"
    }
   ],
   "source": [
    "from pandas import Series\n",
    "import matplotlib.pyplot as plt\n",
    "\n",
    "plt.plot(Series.rolling(Series(star_ratings), window=1000).mean());"
   ]
  },
  {
   "cell_type": "code",
   "execution_count": 17,
   "id": "74bbda61",
   "metadata": {
    "scrolled": false
   },
   "outputs": [
    {
     "data": {
      "image/png": "[encoded data removed]",
      "text/plain": [
       "<Figure size 432x288 with 1 Axes>"
      ]
     },
     "metadata": {},
     "output_type": "display_data"
    }
   ],
   "source": [
    "# Data shuffling\n",
    "data_df = pd.DataFrame(data)\n",
    "data_df_shuffled = data_df.sample(frac = 1)\n",
    "plt.plot(Series.rolling((data_df_shuffled[['stars']]), window=1000).mean());"
   ]
  },
  {
   "cell_type": "code",
   "execution_count": 21,
   "id": "7a21f0b4",
   "metadata": {
    "slideshow": null
   },
   "outputs": [
    {
     "name": "stdout",
     "output_type": "stream",
     "text": [
      "Fitting 5 folds for each of 16 candidates, totalling 80 fits\n"
     ]
    }
   ],
   "source": [
    "from sklearn.model_selection import GridSearchCV\n",
    "\n",
    "grid_params = {\n",
    "                'n_neighbors': [69,75,81,87],\n",
    "                'weights': ['uniform', 'distance'],\n",
    "                'metric': ['euclidean', 'manhattan']\n",
    "}\n",
    "\n",
    "gs = GridSearchCV(\n",
    "                KNeighborsRegressor(),\n",
    "                grid_params,\n",
    "                verbose = 1,\n",
    "                n_jobs = -1\n",
    ")\n",
    "\n",
    "y = data_df_shuffled[['stars']]\n",
    "X = data_df_shuffled[['latitude','longitude']]\n",
    "gs_results = gs.fit(X,y)"
   ]
  },
  {
   "cell_type": "code",
   "execution_count": 22,
   "id": "98a75bcb",
   "metadata": {
    "scrolled": true
   },
   "outputs": [
    {
     "data": {
      "text/plain": [
       "(0.021067822071598206,\n",
       " KNeighborsRegressor(metric='manhattan', n_neighbors=75),\n",
       " {'metric': 'manhattan', 'n_neighbors': 75, 'weights': 'uniform'})"
      ]
     },
     "execution_count": 22,
     "metadata": {},
     "output_type": "execute_result"
    }
   ],
   "source": [
    "# Find the best n_neighbors parameter\n",
    "gs_results.best_score_, gs_results.best_estimator_, gs_results.best_params_"
   ]
  },
  {
   "cell_type": "code",
   "execution_count": 23,
   "id": "2195bfad",
   "metadata": {},
   "outputs": [
    {
     "data": {
      "text/plain": [
       "Pipeline(steps=[('dataframe', ToDataFrame()),\n",
       "                ('location',\n",
       "                 ColumnTransformer(transformers=[('location', ToDataFrame(),\n",
       "                                                  ['latitude', 'longitude'])])),\n",
       "                ('regressor',\n",
       "                 KNeighborsRegressor(metric='manhattan', n_neighbors=75))])"
      ]
     },
     "execution_count": 23,
     "metadata": {},
     "output_type": "execute_result"
    }
   ],
   "source": [
    "lat_long_model = Pipeline([\n",
    "                        ('dataframe', ToDataFrame()),\n",
    "                        ('location', selector),\n",
    "                        ('regressor', KNeighborsRegressor(n_neighbors=75, metric='manhattan'))\n",
    "])\n",
    "lat_long_model.fit(data, star_ratings)"
   ]
  },
  {
   "cell_type": "code",
   "execution_count": 24,
   "id": "4ad1f6ce",
   "metadata": {
    "slideshow": null
   },
   "outputs": [
    {
     "data": {
      "text/plain": [
       "0.04944401968538237"
      ]
     },
     "execution_count": 24,
     "metadata": {},
     "output_type": "execute_result"
    }
   ],
   "source": [
    "lat_long_model.score(data, star_ratings)"
   ]
  },
  {
   "cell_type": "markdown",
   "id": "a4d1ce3a",
   "metadata": {
    "slideshow": null
   },
   "source": [
    "## Model 2: the Category model"
   ]
  },
  {
   "cell_type": "markdown",
   "id": "a0d0534c",
   "metadata": {
    "slideshow": null
   },
   "source": [
    "Apparently, while location and neighborhood is important, the prediction based on the single feature is not satisfying. We should also try seeing how predictive the venue's category is.\n",
    "\n",
    "\n",
    "The categories come as a list of strings, but the scikit-learn's predictors all need numeric input. We ultimately want to create a column in our feature matrix to represent every category. For a given row, only the columns that represent the categories it contains will be filled with a one, otherwise, it will be filled with a zero. The described method is similar to `OneHotenEoding`, however, an observation/row can contain more than one \"hot\", non-zero, column.\n",
    "\n",
    "To achieve our encoding plan, we need to use scikit-learn's provided [`DictVectorizer`](http://scikit-learn.org/stable/modules/generated/sklearn.feature_extraction.DictVectorizer.html#sklearn.feature_extraction.DictVectorizer). This transformer takes a 1-D array of dictionaries and creates a column in the output matrix for each key in the dictionary and fills it with the value associated with it. Missing keys are filled with zeros. Therefore, we need to build a transformer that takes an array of strings and returns an array of dictionaries with keys given by those strings and values of one."
   ]
  },
  {
   "cell_type": "code",
   "execution_count": 25,
   "id": "8f1bd70c",
   "metadata": {
    "slideshow": null
   },
   "outputs": [],
   "source": [
    "from collections import Counter\n",
    "\n",
    "class DictEncoder(BaseEstimator, TransformerMixin):\n",
    "    \n",
    "    def fit(self, X, y=None):\n",
    "        return self\n",
    "    \n",
    "    def transform(self, X):\n",
    "        # X will be a pandas series. Return a pandas series of dictionaries\n",
    "        X_list = [dict(Counter(x)) for x in X]\n",
    "        return pd.Series(X_list)"
   ]
  },
  {
   "cell_type": "markdown",
   "id": "f4ef1d72",
   "metadata": {
    "slideshow": null
   },
   "source": [
    "Now, create a pipeline object of the two step transformation for the categories data. Afterwards, create a `ColumnTransformer` object that will use the aforementioned pipeline object to transform the `'categories'` field."
   ]
  },
  {
   "cell_type": "code",
   "execution_count": 27,
   "id": "3ba161b9",
   "metadata": {
    "slideshow": null
   },
   "outputs": [],
   "source": [
    "from sklearn.pipeline import Pipeline\n",
    "from sklearn.feature_extraction import DictVectorizer\n",
    "from sklearn.compose import ColumnTransformer\n",
    "\n",
    "cat_pipe = Pipeline([('encoder', DictEncoder()),('vectorizer', DictVectorizer())])\n",
    "\n",
    "cat_transformer = ColumnTransformer([('categories', cat_pipe, 'categories')], remainder = 'drop')"
   ]
  },
  {
   "cell_type": "markdown",
   "id": "028580f9",
   "metadata": {
    "slideshow": null
   },
   "source": [
    "Finally, create a pipeline object that will\n",
    "1. Convert the list of dictionaries into a data frame\n",
    "2. Select the `'categories'` column and encode the data\n",
    "3. Add in a [`TfidfTransformer`](https://scikit-learn.org/stable/modules/generated/sklearn.feature_extraction.text.TfidfVectorizer.html) between the `DictVectorizer` and the linear model to measure term frequency-inverse document frequency (tf-idf)\n",
    "4. Train a regularized linear model such as `Ridge`\n",
    "\n",
    "There will be a large number of features, one for each category, so there is a significant danger of overfitting. Cross validation is used to choose the best regularization parameter."
   ]
  },
  {
   "cell_type": "code",
   "execution_count": 28,
   "id": "f3bc7297",
   "metadata": {
    "slideshow": null
   },
   "outputs": [
    {
     "data": {
      "text/plain": [
       "GridSearchCV(cv=5,\n",
       "             estimator=Pipeline(steps=[('df', ToDataFrame()),\n",
       "                                       ('encodecat',\n",
       "                                        ColumnTransformer(transformers=[('categories',\n",
       "                                                                         Pipeline(steps=[('encoder',\n",
       "                                                                                          DictEncoder()),\n",
       "                                                                                         ('vectorizer',\n",
       "                                                                                          DictVectorizer())]),\n",
       "                                                                         'categories')])),\n",
       "                                       ('frequency', TfidfTransformer()),\n",
       "                                       ('ridge', Ridge())]),\n",
       "             n_jobs=-1, param_grid={'ridge__alpha': [1, 5, 10, 20]})"
      ]
     },
     "execution_count": 28,
     "metadata": {},
     "output_type": "execute_result"
    }
   ],
   "source": [
    "from sklearn.linear_model import Ridge\n",
    "from sklearn.feature_extraction.text import TfidfTransformer\n",
    "from sklearn.model_selection import GridSearchCV\n",
    "\n",
    "cat_transform_fit = Pipeline([\n",
    "                            ('df',ToDataFrame()),\n",
    "                            ('encodecat',cat_transformer),\n",
    "                            ('frequency',TfidfTransformer()),\n",
    "                            ('ridge',Ridge())\n",
    "                            ])\n",
    "\n",
    "category_model = GridSearchCV(cat_transform_fit, {'ridge__alpha':[1,5,10,20]}, cv = 5, n_jobs = -1)\n",
    "\n",
    "category_model.fit(data, star_ratings)\n"
   ]
  },
  {
   "cell_type": "code",
   "execution_count": 29,
   "id": "72adfd5d",
   "metadata": {},
   "outputs": [
    {
     "data": {
      "text/plain": [
       "({'ridge__alpha': 5}, 0.14036180446374213)"
      ]
     },
     "execution_count": 29,
     "metadata": {},
     "output_type": "execute_result"
    }
   ],
   "source": [
    "category_model.best_params_, category_model.best_score_"
   ]
  },
  {
   "cell_type": "code",
   "execution_count": 31,
   "id": "bd01f1ba",
   "metadata": {},
   "outputs": [
    {
     "data": {
      "text/plain": [
       "0.20487676212005712"
      ]
     },
     "execution_count": 31,
     "metadata": {},
     "output_type": "execute_result"
    }
   ],
   "source": [
    "category_model.score(data, star_ratings) # Better score than the above lat_long model that is based on neighborhood feature"
   ]
  },
  {
   "cell_type": "markdown",
   "id": "76c8b7e8",
   "metadata": {
    "slideshow": null
   },
   "source": [
    "## Model 3: the Attribute model"
   ]
  },
  {
   "cell_type": "markdown",
   "id": "b4ac2b5d",
   "metadata": {
    "slideshow": null
   },
   "source": [
    "There is even more information in the attributes for each venue.  Now let's build an estimator based on these attributes.\n",
    "\n",
    "Venues attributes may be nested:\n",
    "```python\n",
    "{\n",
    "  'Attire': 'casual',\n",
    "  'Accepts Credit Cards': True,\n",
    "  'Ambiance': {'casual': False, 'classy': False}\n",
    "}\n",
    "```\n",
    "Again, we want to encode them in the same manner as our categories data using the `DictVectorizer`. Before we do so, we need to flatten the dictionary to a single level:\n",
    "```python\n",
    "{\n",
    "  'Attire_casual' : 1,\n",
    "  'Accepts Credit Cards': 1,\n",
    "  'Ambiance_casual': 0,\n",
    "  'Ambiance_classy': 0\n",
    "}\n",
    "```\n",
    "First, we need to build a custom transformer that flattens the dictionary for the `'attributes'` field."
   ]
  },
  {
   "cell_type": "code",
   "execution_count": 32,
   "id": "888dc1da",
   "metadata": {},
   "outputs": [],
   "source": [
    "def bool_or_str (key, value):\n",
    "    if value == False:\n",
    "        new_key = 0\n",
    "    elif value == True:\n",
    "        d[key] = 1\n",
    "    else:\n",
    "        new_key = str(key)+'_'+str(value)\n",
    "        d[new_key] = 1\n",
    "    return key,"
   ]
  },
  {
   "cell_type": "code",
   "execution_count": 33,
   "id": "08ba175c",
   "metadata": {},
   "outputs": [],
   "source": [
    "def flatten_out (nested, parentKey = \"\"):\n",
    "    l = []\n",
    "    for x in nested:\n",
    "        for key, value in x.items():\n",
    "            if isinstance(value, dict):\n",
    "                return flatten_out(value, str(key))\n",
    "            else:\n",
    "                l.append(bool_or_str(parentKey+str(key), value))\n",
    "    return l"
   ]
  },
  {
   "cell_type": "code",
   "execution_count": 34,
   "id": "11a0b0d3",
   "metadata": {
    "slideshow": null
   },
   "outputs": [],
   "source": [
    "# Create the transformer to flatten out the attributes data and pass into the DictVectorizer\n",
    "class attributesEncoder(BaseEstimator, TransformerMixin):\n",
    "    \n",
    "    def fit(self, X, y=None):\n",
    "        return self\n",
    "    \n",
    "    def transform(self, X):\n",
    "        # X will be a pandas series. Return a pandas series of dictionaries\n",
    "        l = []\n",
    "        for x in X:\n",
    "            d = dict()\n",
    "            for key,value in x.items():\n",
    "                if type(value) != dict:\n",
    "                    if value == False:\n",
    "                        d[key] = 0\n",
    "                    elif value == True:\n",
    "                        d[key] = 1\n",
    "                    else:\n",
    "                        new_key = str(key)+'_'+str(value)\n",
    "                        d[new_key] = 1\n",
    "                else:\n",
    "                    for sub_key, sub_value in value.items():\n",
    "                        new_key = str(key)+'_'+str(sub_key)\n",
    "                        if sub_value == False:\n",
    "                            d[new_key] = 0\n",
    "                        elif sub_value == True:\n",
    "                            d[new_key] = 1\n",
    "                        else:\n",
    "                            sub_new_key = new_key+'_'+str(sub_value)\n",
    "                            d[sub_new_key] = 1\n",
    "            l.append(d)\n",
    "        return pd.Series(l)\n",
    "\n",
    "attr_pipe = Pipeline([('encoder', attributesEncoder()),('vectorizer', DictVectorizer())])\n",
    "\n",
    "attr_transformer = ColumnTransformer([('attr_vectorize', attr_pipe, 'attributes')], remainder = 'drop')"
   ]
  },
  {
   "cell_type": "markdown",
   "id": "2810656f",
   "metadata": {},
   "source": [
    "It is difficult to find a single regressor that performs well enough. A common solution is to use a linear model to fit the linear part of some data, and use a non-linear model to fit the residual that the linear model can't fit."
   ]
  },
  {
   "cell_type": "code",
   "execution_count": 86,
   "id": "55659c29",
   "metadata": {},
   "outputs": [
    {
     "data": {
      "text/plain": [
       "Pipeline(steps=[('df', ToDataFrame()),\n",
       "                ('encodeAttr',\n",
       "                 ColumnTransformer(transformers=[('attr_vectorize',\n",
       "                                                  Pipeline(steps=[('encoder',\n",
       "                                                                   attributesEncoder()),\n",
       "                                                                  ('vectorizer',\n",
       "                                                                   DictVectorizer())]),\n",
       "                                                  'attributes')])),\n",
       "                ('frequency', TfidfTransformer()),\n",
       "                ('regressor', comboPredictor())])"
      ]
     },
     "execution_count": 86,
     "metadata": {},
     "output_type": "execute_result"
    }
   ],
   "source": [
    "# Create the linear + non-linear combo predictor\n",
    "from sklearn.linear_model import Ridge\n",
    "from sklearn.tree import DecisionTreeRegressor\n",
    "\n",
    "class comboPredictor (BaseEstimator, RegressorMixin):\n",
    "    \n",
    "    def __init__(self):\n",
    "        self.linear = Ridge(alpha=2) # The alpha parameter was optimized using GridSearchCV\n",
    "        self.decisiontree = DecisionTreeRegressor(max_depth = 10) # DecisionTreeRegressor is used to fit the non-linear part\n",
    "        \n",
    "    def fit(self, X, y):\n",
    "        self.linear.fit(X, y)\n",
    "        residue = y - self.linear.predict(X)\n",
    "        self.decisiontree.fit(X, residue)\n",
    "        return self\n",
    "    \n",
    "    def predict(self, X):\n",
    "        return self.linear.predict(X) + self.decisiontree.predict(X)\n",
    "    \n",
    "# Create the attribute model\n",
    "attribute_model = Pipeline([\n",
    "                            ('df',ToDataFrame()),\n",
    "                            ('encodeAttr',attr_transformer),\n",
    "                            ('frequency',TfidfTransformer()),\n",
    "                            ('regressor',comboPredictor())\n",
    "                            ])\n",
    "\n",
    "attribute_model.fit(data, star_ratings)"
   ]
  },
  {
   "cell_type": "code",
   "execution_count": 87,
   "id": "94218780",
   "metadata": {},
   "outputs": [
    {
     "data": {
      "text/plain": [
       "0.10225240110227851"
      ]
     },
     "execution_count": 87,
     "metadata": {},
     "output_type": "execute_result"
    }
   ],
   "source": [
    "attribute_model.score(data, star_ratings)"
   ]
  },
  {
   "cell_type": "markdown",
   "id": "9fdfe89a",
   "metadata": {
    "slideshow": null
   },
   "source": [
    "## The full model"
   ]
  },
  {
   "cell_type": "markdown",
   "id": "d096cad9",
   "metadata": {
    "slideshow": null
   },
   "source": [
    "So far we have only built models based on individual features.  Now we will build an ensemble regressor that combines the estimates of the three previous regressors.\n",
    "\n",
    "In order to use the existing models as input to a predictor, we will have to turn them into transformers; a predictor can only be in the final step of a pipeline. Build a custom `ModelTransformer` class that takes a predictor as an argument. When `fit` is called, the predictor should be fit. When `transform` is called, the predictor's `predict` method should be called, and its results returned as the transformation.\n",
    "\n",
    "Note that the output of the `transform` method should be a 2-D array with a single column in order for it to work well with the scikit-learn pipeline. If you're using NumPy arrays, you can use `.reshape(-1, 1)` to create a column vector."
   ]
  },
  {
   "cell_type": "code",
   "execution_count": 72,
   "id": "d31eba1c",
   "metadata": {
    "slideshow": null
   },
   "outputs": [],
   "source": [
    "class ModelTransformer(BaseEstimator, TransformerMixin):\n",
    "    \n",
    "    def __init__(self, model):\n",
    "        self.model = model\n",
    "    \n",
    "    def fit(self, X, y):\n",
    "        # Fit the stored predictor.\n",
    "        self.model.fit(X, y)\n",
    "        return self\n",
    "    \n",
    "    def transform(self, X):\n",
    "        # Use predict on the stored predictor as a \"transformation\".\n",
    "        # Need to return a 2-D array.\n",
    "        return np.array(self.model.predict(X)).reshape(-1,1)"
   ]
  },
  {
   "cell_type": "markdown",
   "id": "1e2e3b36",
   "metadata": {
    "slideshow": null
   },
   "source": [
    "Create an instance of `ModelTransformer` for each of the previous four models. Combine these together in a single feature matrix with a\n",
    "[`FeatureUnion`](http://scikit-learn.org/stable/modules/generated/sklearn.pipeline.FeatureUnion.html#sklearn.pipeline.FeatureUnion)."
   ]
  },
  {
   "cell_type": "code",
   "execution_count": 73,
   "id": "3ca71b54",
   "metadata": {
    "slideshow": null
   },
   "outputs": [],
   "source": [
    "from sklearn.pipeline import FeatureUnion\n",
    "\n",
    "union = FeatureUnion([('lat_long_trans', ModelTransformer(lat_long_model)),\n",
    "                      ('category_trans', ModelTransformer(category_model)),\n",
    "                      ('attribute_trans', ModelTransformer(attribute_model))\n",
    "        # FeatureUnion uses the same syntax as Pipeline\n",
    "    ])"
   ]
  },
  {
   "cell_type": "markdown",
   "id": "739d2451",
   "metadata": {
    "slideshow": null
   },
   "source": [
    "Finally, use a pipeline to combine the feature union with `RandomForestRegressor` to weight the predictions."
   ]
  },
  {
   "cell_type": "code",
   "execution_count": 99,
   "id": "681d284b",
   "metadata": {
    "slideshow": null
   },
   "outputs": [
    {
     "data": {
      "text/plain": [
       "Pipeline(steps=[('union',\n",
       "                 FeatureUnion(transformer_list=[('lat_long_trans',\n",
       "                                                 ModelTransformer(model=Pipeline(steps=[('dataframe',\n",
       "                                                                                         ToDataFrame()),\n",
       "                                                                                        ('location',\n",
       "                                                                                         ColumnTransformer(transformers=[('location',\n",
       "                                                                                                                          ToDataFrame(),\n",
       "                                                                                                                          ['latitude',\n",
       "                                                                                                                           'longitude'])])),\n",
       "                                                                                        ('regressor',\n",
       "                                                                                         KNeighborsRegressor(metric='manhattan',\n",
       "                                                                                                             n_neighbors=75))]))),\n",
       "                                                ('category_trans',\n",
       "                                                 ModelTransformer(mo...\n",
       "                                                ('attribute_trans',\n",
       "                                                 ModelTransformer(model=Pipeline(steps=[('df',\n",
       "                                                                                         ToDataFrame()),\n",
       "                                                                                        ('encodeAttr',\n",
       "                                                                                         ColumnTransformer(transformers=[('attr_vectorize',\n",
       "                                                                                                                          Pipeline(steps=[('encoder',\n",
       "                                                                                                                                           attributesEncoder()),\n",
       "                                                                                                                                          ('vectorizer',\n",
       "                                                                                                                                           DictVectorizer())]),\n",
       "                                                                                                                          'attributes')])),\n",
       "                                                                                        ('frequency',\n",
       "                                                                                         TfidfTransformer()),\n",
       "                                                                                        ('regressor',\n",
       "                                                                                         comboPredictor())])))])),\n",
       "                ('regressor', RandomForestRegressor())])"
      ]
     },
     "execution_count": 99,
     "metadata": {},
     "output_type": "execute_result"
    }
   ],
   "source": [
    "from sklearn.ensemble import RandomForestRegressor\n",
    "\n",
    "full_model = Pipeline([('union', union),\n",
    "                       ('regressor', RandomForestRegressor())]) \n",
    "full_model.fit(data, star_ratings)"
   ]
  },
  {
   "cell_type": "code",
   "execution_count": 100,
   "id": "9cc9f1ee",
   "metadata": {
    "slideshow": null
   },
   "outputs": [
    {
     "data": {
      "text/plain": [
       "0.8195016028161191"
      ]
     },
     "execution_count": 100,
     "metadata": {},
     "output_type": "execute_result"
    }
   ],
   "source": [
    "full_model.score(data, star_ratings) # Significantly improved prediction power with the ensembled model"
   ]
  }
 ],
 "metadata": {
  "kernelspec": {
   "display_name": "Python 3 (ipykernel)",
   "language": "python",
   "name": "python3"
  },
  "language_info": {
   "codemirror_mode": {
    "name": "ipython",
    "version": 3
   },
   "file_extension": ".py",
   "mimetype": "text/x-python",
   "name": "python",
   "nbconvert_exporter": "python",
   "pygments_lexer": "ipython3",
   "version": "3.9.12"
  },
  "nbclean": true
 },
 "nbformat": 4,
 "nbformat_minor": 5
}
